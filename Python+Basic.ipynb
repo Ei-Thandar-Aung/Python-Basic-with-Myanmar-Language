{
 "cells": [
  {
   "cell_type": "markdown",
   "metadata": {},
   "source": [
    "python မှာ comment ကို # sign နဲ့ သုံးပါတယ်\n",
    "Assign ထည့်ချင်ရင်တော့ = သင်္ကေတကို သုံးပါတယ် Multiple assignment အနေနဲ့ , ခြားပြီးလည်းသုံးလို့ရပါတယ်\n",
    "Example: "
   ]
  },
  {
   "cell_type": "code",
   "execution_count": 5,
   "metadata": {},
   "outputs": [
    {
     "name": "stdout",
     "output_type": "stream",
     "text": [
      "1\n",
      "1\n",
      "1\n"
     ]
    }
   ],
   "source": [
    "a = b = c = 1\n",
    "print (a)\n",
    "print (b)\n",
    "print (c)"
   ]
  },
  {
   "cell_type": "code",
   "execution_count": 6,
   "metadata": {},
   "outputs": [
    {
     "name": "stdout",
     "output_type": "stream",
     "text": [
      "1\n",
      "2\n",
      "john\n"
     ]
    }
   ],
   "source": [
    "a,b,c = 1,2,\"john\"\n",
    "print (a)\n",
    "print (b)\n",
    "print (c)"
   ]
  },
  {
   "cell_type": "markdown",
   "metadata": {},
   "source": [
    "Python မှာကိုယ်ကြေငြာထားတဲ့ variable ကို ပြန်ဖျက်ချင်ရင် del ဆိုတဲ့ keyword ကိုသုံရတယ် Example:"
   ]
  },
  {
   "cell_type": "code",
   "execution_count": 11,
   "metadata": {},
   "outputs": [
    {
     "ename": "NameError",
     "evalue": "name 'var1' is not defined",
     "output_type": "error",
     "traceback": [
      "\u001b[1;31m---------------------------------------------------------------------------\u001b[0m",
      "\u001b[1;31mNameError\u001b[0m                                 Traceback (most recent call last)",
      "\u001b[1;32m<ipython-input-11-32ebd0fa5aad>\u001b[0m in \u001b[0;36m<module>\u001b[1;34m()\u001b[0m\n\u001b[0;32m      2\u001b[0m \u001b[0mvar2\u001b[0m \u001b[1;33m=\u001b[0m \u001b[1;36m10\u001b[0m\u001b[1;33m\u001b[0m\u001b[0m\n\u001b[0;32m      3\u001b[0m \u001b[1;32mdel\u001b[0m \u001b[0mvar1\u001b[0m\u001b[1;33m\u001b[0m\u001b[0m\n\u001b[1;32m----> 4\u001b[1;33m \u001b[0mprint\u001b[0m \u001b[1;33m(\u001b[0m\u001b[0mvar1\u001b[0m\u001b[1;33m)\u001b[0m\u001b[1;33m\u001b[0m\u001b[0m\n\u001b[0m",
      "\u001b[1;31mNameError\u001b[0m: name 'var1' is not defined"
     ]
    }
   ],
   "source": [
    "var1 = 1\n",
    "var2 = 10\n",
    "del var1\n",
    "print (var1)"
   ]
  },
  {
   "cell_type": "markdown",
   "metadata": {
    "collapsed": true
   },
   "source": [
    "\\ ဆိုတာက escape character ပါ\n",
    "\\n က နောက်တစ်ကြောင်း ဆင်းချင်ရင် သုံးပါတယ်\n",
    "\\t က တော့ Tab ပါ\n",
    "\\b က တော့ backspace အတွက် သုံးပါတယ်\n",
    "\\f က တော့ page ကို skip အတွက် သုံးပါတယ်\n",
    "\\a က တော့ alarm မြည်ချင်ရင် သုံးပါတယ်\n"
   ]
  },
  {
   "cell_type": "markdown",
   "metadata": {},
   "source": [
    "a = \"Hello\"\n",
    "အပေါ်ကစာကြောင်းမှာဆိုရင် a ကို string variable လို့ ခေါ်ပြီး Hello ကိုတော့ String literal လို့ခေါ်တယ် "
   ]
  },
  {
   "cell_type": "markdown",
   "metadata": {},
   "source": [
    "# Python String"
   ]
  },
  {
   "cell_type": "markdown",
   "metadata": {},
   "source": [
    "String ဆိုတာက character set ကို <span style=\"color:blue\">**\" \"**</span> or <span style=\"color:blue\">**' '**</span> ထဲမှာ ရေးပါတယ် String ရဲ့ substring ကို လိုချင်ရင် slice operator ([] or [:]) ကို သုံးတယ် Index 0 ကနေစပါတယ်\n",
    "E.g:\n",
    "     \"တွေ့ရတာ၀မ်းသာပါတယ်\"\n",
    "      ဒီစာကြောင်းရဲ့ length ကို လိုချင်ရင် len ဆိုတဲ့ function ကို သုံးရတယ် အခု စာကြောင်းရဲ့ Length က တော့ 18 ပါ ဘာကြောင့်လဲဆိုတော့ \n",
    "        \" တ ွ ေ ့ ရ တ ာ ၀ မ ် း သ ာ ပ ါ တ ယ ် \" ဒီလိုရေးရလို့ပါ\n",
    " **str[0:4] ဆိုရင် Index 0 က နေစပြီး 3 ထိ ယူမှာပါ**"
   ]
  },
  {
   "cell_type": "code",
   "execution_count": 22,
   "metadata": {},
   "outputs": [
    {
     "name": "stdout",
     "output_type": "stream",
     "text": [
      "str[0] is တ\n",
      "str[0:4] is တွေ့\n",
      "တွေ့ရတာ၀မ်းသာပါတယ်တွေ့ရတာ၀မ်းသာပါတယ်တွေ့ရတာ၀မ်းသာပါတယ်\n",
      "တွေ့ရတာ၀မ်းသာပါတယ် \n",
      "\n",
      "length of string 18\n"
     ]
    }
   ],
   "source": [
    "str = \"တွေ့ရတာ၀မ်းသာပါတယ်\"\n",
    "print (\"str[0] is\",str[0])\n",
    "print(\"str[0:4] is\",str[0:4])\n",
    "print (str * 3) # string ကို ကိုကြိုက်တဲ့ အကြိမ်ထိ ထုတ်လို့ရပါတယ်\n",
    "print (str,'\\n')\n",
    "print(\"length of string\",len(str))"
   ]
  },
  {
   "cell_type": "markdown",
   "metadata": {
    "collapsed": true
   },
   "source": [
    "# Error in Python"
   ]
  },
  {
   "cell_type": "markdown",
   "metadata": {},
   "source": [
    "Error type တွေ အမျိုးမျိုးရှိပါတယ် \n",
    "* Syntax Error\n",
    "* Index Error\n",
    "* Module Not Found Error\n",
    "* Key Error\n",
    "* Import Error\n",
    "* Stop Iteration\n",
    "* Type Error\n",
    "* Value Error\n",
    "* Name Error\n",
    "* Zero Division Error\n",
    "* Keyboard Interrupt"
   ]
  },
  {
   "cell_type": "markdown",
   "metadata": {},
   "source": [
    "# Syntax Error"
   ]
  },
  {
   "cell_type": "markdown",
   "metadata": {},
   "source": [
    "Syntax Error ဆိုတာက Python မှာ တကယ် သုံးတဲ့ usage အတိုင်း မသုံးဘဲ ရေးနည်းအမှားကို သုံးတာပါ ဥပမာ"
   ]
  },
  {
   "cell_type": "code",
   "execution_count": 24,
   "metadata": {},
   "outputs": [
    {
     "ename": "SyntaxError",
     "evalue": "Missing parentheses in call to 'print'. Did you mean print(\"Hello\")? (<ipython-input-24-d316e80f8e47>, line 1)",
     "output_type": "error",
     "traceback": [
      "\u001b[1;36m  File \u001b[1;32m\"<ipython-input-24-d316e80f8e47>\"\u001b[1;36m, line \u001b[1;32m1\u001b[0m\n\u001b[1;33m    print \"Hello\"\u001b[0m\n\u001b[1;37m                ^\u001b[0m\n\u001b[1;31mSyntaxError\u001b[0m\u001b[1;31m:\u001b[0m Missing parentheses in call to 'print'. Did you mean print(\"Hello\")?\n"
     ]
    }
   ],
   "source": [
    "print \"Hello\""
   ]
  },
  {
   "cell_type": "markdown",
   "metadata": {},
   "source": [
    "print ဆိုတဲ့ function က ( ) နဲ့ သုံးတာက ရေးနည်းအမှန်ပါ အာ့တာကို သူ့သတ်မှတ်ထားတဲ့အတိုင်းမရေးဘဲ** print \"Hello\" **လို့ ရေးတဲ့ အခါမှာ <span style=\"color:red\">**SyntaxError**</span> ဖြစ်ပါတယ်"
   ]
  },
  {
   "cell_type": "markdown",
   "metadata": {},
   "source": [
    "# Index Error"
   ]
  },
  {
   "cell_type": "markdown",
   "metadata": {},
   "source": [
    "Index Error ကတော့ မှားတဲ့ Index ကို ခေါ်မိတဲ့ အချိန်မှာ ဖြစ်တက်တဲ့ Error ပါ မှားတဲ့ Index ဆိုတာ ဘယ်လိုလဲ ဆိုတော့ "
   ]
  },
  {
   "cell_type": "markdown",
   "metadata": {},
   "source": [
    "# Module Not Found Error\n",
    "\n"
   ]
  },
  {
   "cell_type": "code",
   "execution_count": 28,
   "metadata": {},
   "outputs": [
    {
     "ename": "ModuleNotFoundError",
     "evalue": "No module named 'Ipython'",
     "output_type": "error",
     "traceback": [
      "\u001b[1;31m---------------------------------------------------------------------------\u001b[0m",
      "\u001b[1;31mModuleNotFoundError\u001b[0m                       Traceback (most recent call last)",
      "\u001b[1;32m<ipython-input-28-644a49946f15>\u001b[0m in \u001b[0;36m<module>\u001b[1;34m()\u001b[0m\n\u001b[1;32m----> 1\u001b[1;33m \u001b[1;32mfrom\u001b[0m \u001b[0mIpython\u001b[0m\u001b[1;33m.\u001b[0m\u001b[0mdisplay\u001b[0m \u001b[1;32mimport\u001b[0m \u001b[0mImage\u001b[0m\u001b[1;33m\u001b[0m\u001b[0m\n\u001b[0m\u001b[0;32m      2\u001b[0m \u001b[0mImage\u001b[0m\u001b[1;33m(\u001b[0m\u001b[1;34m\"./index.jpg\"\u001b[0m\u001b[1;33m,\u001b[0m\u001b[0membed\u001b[0m\u001b[1;33m=\u001b[0m\u001b[1;32mTrue\u001b[0m\u001b[1;33m,\u001b[0m\u001b[0mwidth\u001b[0m\u001b[1;33m=\u001b[0m\u001b[1;36m100\u001b[0m\u001b[1;33m,\u001b[0m\u001b[0mheight\u001b[0m\u001b[1;33m=\u001b[0m\u001b[1;36m100\u001b[0m\u001b[1;33m,\u001b[0m\u001b[0mretina\u001b[0m\u001b[1;33m=\u001b[0m\u001b[1;32mTrue\u001b[0m\u001b[1;33m)\u001b[0m\u001b[1;33m\u001b[0m\u001b[0m\n",
      "\u001b[1;31mModuleNotFoundError\u001b[0m: No module named 'Ipython'"
     ]
    }
   ],
   "source": [
    "from Ipython.display import Image\n",
    "Image(\"./index.jpg\",embed=True,width=100,height=100,retina=True)"
   ]
  },
  {
   "cell_type": "code",
   "execution_count": null,
   "metadata": {
    "collapsed": true
   },
   "outputs": [],
   "source": [
    "Module not found Error ဆိုတာ ကိုယ်သုံးတဲ့ libary ကို မသိရင် ဖြစ်တဲ့ error ပါ"
   ]
  }
 ],
 "metadata": {
  "kernelspec": {
   "display_name": "Python 3",
   "language": "python",
   "name": "python3"
  },
  "language_info": {
   "codemirror_mode": {
    "name": "ipython",
    "version": 3
   },
   "file_extension": ".py",
   "mimetype": "text/x-python",
   "name": "python",
   "nbconvert_exporter": "python",
   "pygments_lexer": "ipython3",
   "version": "3.6.3"
  }
 },
 "nbformat": 4,
 "nbformat_minor": 2
}
