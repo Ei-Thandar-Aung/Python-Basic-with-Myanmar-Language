{
 "cells": [
  {
   "cell_type": "code",
   "execution_count": 31,
   "metadata": {},
   "outputs": [
    {
     "name": "stdout",
     "output_type": "stream",
     "text": [
      "Random float number between 5 and 95 is 91.34474577555142\n",
      "Random float number between 5 and 95 is 91.17254408514749\n",
      "Random float number between 5 and 95 is 93.32461775564713\n",
      "Random float number between 5 and 95 is 90.43378604726573\n",
      "Random float number between 5 and 95 is 90.2952721809981\n",
      "Random float number between 5 and 95 is 90.00370395623996\n",
      "Random float number between 5 and 95 is 94.06608453537349\n",
      "Random float number between 5 and 95 is 92.19966819402337\n",
      "Random float number between 5 and 95 is 94.04602517556683\n",
      "Random float number between 5 and 95 is 94.30361332202084\n",
      "Random float number between 5 and 95 is 93.92204842435969\n",
      "Random float number between 5 and 95 is 94.74341212683446\n",
      "Random float number between 5 and 95 is 93.91420669293184\n",
      "Random float number between 5 and 95 is 90.97256719471814\n",
      "Random float number between 5 and 95 is 91.09352051499481\n",
      "Random float number between 5 and 95 is 90.55792050436119\n",
      "Random float number between 5 and 95 is 93.7405518152987\n",
      "Random float number between 5 and 95 is 90.01474993167426\n",
      "Random float number between 5 and 95 is 92.2057418866669\n",
      "Random float number between 5 and 95 is 90.7139217635065\n",
      "Random float number between 5 and 95 is 93.21131251703459\n",
      "Random float number between 5 and 95 is 93.3626954706724\n",
      "Random float number between 5 and 95 is 94.9512947018792\n",
      "Random float number between 5 and 95 is 93.11238871341023\n",
      "Random float number between 5 and 95 is 92.07630442524304\n",
      "Random float number between 5 and 95 is 90.79841841450697\n",
      "Random float number between 5 and 95 is 93.93740175170409\n",
      "Random float number between 5 and 95 is 94.09534496325756\n",
      "Random float number between 5 and 95 is 90.98818105454401\n",
      "Random float number between 5 and 95 is 94.01018629285107\n",
      "Random float number between 5 and 95 is 92.74420289737773\n",
      "Random float number between 5 and 95 is 90.54293615237762\n",
      "Random float number between 5 and 95 is 91.17453913832976\n",
      "Random float number between 5 and 95 is 94.98513979985199\n",
      "Random float number between 5 and 95 is 92.89764771685623\n",
      "Random float number between 5 and 95 is 90.56288528596063\n",
      "Random float number between 5 and 95 is 93.44360904536316\n",
      "Random float number between 5 and 95 is 93.36393408263152\n",
      "Random float number between 5 and 95 is 90.569144980132\n",
      "Random float number between 5 and 95 is 93.67876549436322\n",
      "Random float number between 5 and 95 is 92.08541976159573\n",
      "Random float number between 5 and 95 is 90.85539394765034\n",
      "Random float number between 5 and 95 is 91.43193696135793\n",
      "Random float number between 5 and 95 is 93.66785204849346\n",
      "Random float number between 5 and 95 is 90.2594733131426\n",
      "Random float number between 5 and 95 is 94.92716365237158\n",
      "Random float number between 5 and 95 is 92.1983952922833\n",
      "Random float number between 5 and 95 is 90.41146948681954\n",
      "Random float number between 5 and 95 is 92.27399102539724\n",
      "Random float number between 5 and 95 is 93.6122095776843\n"
     ]
    }
   ],
   "source": [
    "import random\n",
    "for i in range(50):\n",
    "    print(\"Random float number between 5 and 95 is\",90+ random.random()*52)"
   ]
  },
  {
   "cell_type": "markdown",
   "metadata": {},
   "source": [
    "# Count of any Number length"
   ]
  },
  {
   "cell_type": "code",
   "execution_count": null,
   "metadata": {
    "collapsed": true
   },
   "outputs": [],
   "source": [
    "number = input(\"Enter Number\")\n",
    "result=len(number)\n",
    "print(result)"
   ]
  },
  {
   "cell_type": "markdown",
   "metadata": {},
   "source": [
    "# Printing number Generator"
   ]
  },
  {
   "cell_type": "code",
   "execution_count": 4,
   "metadata": {},
   "outputs": [
    {
     "name": "stdout",
     "output_type": "stream",
     "text": [
      "Enter terminate number3\n",
      "0\n",
      "1\n",
      "2\n",
      "Finish!!\n"
     ]
    }
   ],
   "source": [
    "terminate = int(input(\"Enter terminate number\"))\n",
    "for i in range(terminate):\n",
    "    print (i)\n",
    "else:\n",
    "    print(\"Finish!!\")"
   ]
  },
  {
   "cell_type": "markdown",
   "metadata": {},
   "source": [
    "# Three string with one input"
   ]
  },
  {
   "cell_type": "code",
   "execution_count": 7,
   "metadata": {},
   "outputs": [
    {
     "name": "stdout",
     "output_type": "stream",
     "text": [
      "Enter three string with ,Hi,Hey,Hello\n",
      "Hi\n",
      "Hey\n",
      "Hello\n"
     ]
    }
   ],
   "source": [
    "n1,n2,n3=input(\"Enter three string with , \").split(\",\")\n",
    "print(n1)\n",
    "print(n2)\n",
    "print(n3)\n",
    "    "
   ]
  },
  {
   "cell_type": "markdown",
   "metadata": {},
   "source": [
    "# Random password Generator "
   ]
  },
  {
   "cell_type": "code",
   "execution_count": 26,
   "metadata": {},
   "outputs": [
    {
     "name": "stdout",
     "output_type": "stream",
     "text": [
      "Password length is  10\n",
      "Password is \n",
      "t9GrY.h[*a"
     ]
    }
   ],
   "source": [
    "import random\n",
    "ran = random.randrange(7,11)\n",
    "print(\"Password length is \",ran)\n",
    "print(\"Password is \")\n",
    "for i in range(ran):\n",
    "    ASCII=random.randrange(33,127)\n",
    "    print(chr(ASCII),end=\"\")\n"
   ]
  },
  {
   "cell_type": "code",
   "execution_count": null,
   "metadata": {
    "collapsed": true
   },
   "outputs": [],
   "source": []
  },
  {
   "cell_type": "code",
   "execution_count": null,
   "metadata": {
    "collapsed": true
   },
   "outputs": [],
   "source": []
  },
  {
   "cell_type": "code",
   "execution_count": null,
   "metadata": {
    "collapsed": true
   },
   "outputs": [],
   "source": []
  }
 ],
 "metadata": {
  "kernelspec": {
   "display_name": "Python 3",
   "language": "python",
   "name": "python3"
  },
  "language_info": {
   "codemirror_mode": {
    "name": "ipython",
    "version": 3
   },
   "file_extension": ".py",
   "mimetype": "text/x-python",
   "name": "python",
   "nbconvert_exporter": "python",
   "pygments_lexer": "ipython3",
   "version": "3.6.3"
  }
 },
 "nbformat": 4,
 "nbformat_minor": 2
}
